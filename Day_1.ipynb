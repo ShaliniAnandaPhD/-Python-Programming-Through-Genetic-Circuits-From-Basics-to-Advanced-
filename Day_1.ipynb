{
  "nbformat": 4,
  "nbformat_minor": 0,
  "metadata": {
    "colab": {
      "provenance": [],
      "authorship_tag": "ABX9TyM8bysyIvRTTxzqDxPmSMCb",
      "include_colab_link": true
    },
    "kernelspec": {
      "name": "python3",
      "display_name": "Python 3"
    },
    "language_info": {
      "name": "python"
    }
  },
  "cells": [
    {
      "cell_type": "markdown",
      "metadata": {
        "id": "view-in-github",
        "colab_type": "text"
      },
      "source": [
        "<a href=\"https://colab.research.google.com/github/ShaliniAnandaPhD/-Python-Programming-Through-Genetic-Circuits-From-Basics-to-Advanced-/blob/main/Day_1.ipynb\" target=\"_parent\"><img src=\"https://colab.research.google.com/assets/colab-badge.svg\" alt=\"Open In Colab\"/></a>"
      ]
    },
    {
      "cell_type": "markdown",
      "source": [
        "Topics: What Python is, its importance in scientific computing, basic syntax, variables, data types.\n",
        "Introduction:\n",
        "\n",
        "Write a brief introduction about Python, emphasizing its significance in scientific computing, its simplicity, and versatility. Explain that Python's syntax is designed to be readable and straightforward.\n",
        "\n",
        "Python Basics:\n",
        "\n",
        "Explain the basic syntax of Python, including comments, statements, and the importance of indentation. Introduce different data types like integers, floats, strings, and booleans.\n",
        "\n",
        "Variables:\n",
        "\n",
        "Describe what variables are and how they are used in Python. Show examples of variable assignments and demonstrate how variables can be used to store information, including different data types."
      ],
      "metadata": {
        "id": "0VEmamQkrnFe"
      }
    },
    {
      "cell_type": "code",
      "execution_count": 1,
      "metadata": {
        "colab": {
          "base_uri": "https://localhost:8080/"
        },
        "id": "OLb2hGeTrbPA",
        "outputId": "6f89beb4-065d-45c9-c768-bb41ce399388"
      },
      "outputs": [
        {
          "output_type": "stream",
          "name": "stdout",
          "text": [
            "Number of apples: 5\n",
            "Weight of an apple: 0.5\n",
            "Type of apple: Granny Smith\n",
            "Is the apple tasty? True\n"
          ]
        }
      ],
      "source": [
        "# This is a comment in Python\n",
        "\n",
        "# Integer example\n",
        "number_of_apples = 5\n",
        "\n",
        "# Float example\n",
        "apple_weight = 0.5  # weight in kilograms\n",
        "\n",
        "# String example\n",
        "apple_type = \"Granny Smith\"\n",
        "\n",
        "# Boolean example\n",
        "is_apple_tasty = True\n",
        "\n",
        "# Printing variables\n",
        "print(\"Number of apples:\", number_of_apples)\n",
        "print(\"Weight of an apple:\", apple_weight)\n",
        "print(\"Type of apple:\", apple_type)\n",
        "print(\"Is the apple tasty?\", is_apple_tasty)\n"
      ]
    },
    {
      "cell_type": "markdown",
      "source": [
        "Assignment:\n",
        "\n",
        "Install Python: Provide instructions or a link on how to install Python and set up the environment, if not using Google Colab directly.\n",
        "\n",
        "Write a Script to Print a Personalized Greeting:\n",
        "\n",
        "Create a Python script that asks the user for their name and then prints a personalized greeting.\n",
        "Encourage experimenting with different greetings and string concatenations.\n"
      ],
      "metadata": {
        "id": "Z78dnmCmrvfK"
      }
    },
    {
      "cell_type": "code",
      "source": [
        "# Script to Print a Personalized Greeting\n",
        "\n",
        "# Ask the user for their name\n",
        "user_name = input(\"What is your name? \")\n",
        "\n",
        "# Print a personalized greeting\n",
        "print(\"Hello, \" + user_name + \"! Welcome to Python programming.\")\n"
      ],
      "metadata": {
        "colab": {
          "base_uri": "https://localhost:8080/"
        },
        "id": "vbjVHbpZrzDe",
        "outputId": "e28e7db0-e1c9-4e4c-a66c-21064b9fd659"
      },
      "execution_count": 2,
      "outputs": [
        {
          "output_type": "stream",
          "name": "stdout",
          "text": [
            "What is your name? Philip\n",
            "Hello, Philip! Welcome to Python programming.\n"
          ]
        }
      ]
    },
    {
      "cell_type": "markdown",
      "source": [],
      "metadata": {
        "id": "TXh5X8mor2WM"
      }
    }
  ]
}